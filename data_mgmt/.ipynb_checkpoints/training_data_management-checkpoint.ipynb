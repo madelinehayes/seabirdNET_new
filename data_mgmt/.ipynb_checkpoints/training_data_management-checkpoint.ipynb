{
 "cells": [
  {
   "cell_type": "markdown",
   "metadata": {},
   "source": [
    "### Code for taking the output of img_processing.ipynb managing all the .json label files correctly and shuffling it into train, val, and test sections. "
   ]
  },
  {
   "cell_type": "code",
   "execution_count": 4,
   "metadata": {},
   "outputs": [],
   "source": [
    "import csv\n",
    "from pprint import pprint\n",
    "from random import shuffle\n",
    "\n",
    "data_dir = \"../data/\"\n",
    "\n",
    "with open(data_dir + 'mosaics/tiles/data_bubble.json') as f:\n",
    "    bubble_dict = json.load(f)\n",
    "\n",
    "with open(data_dir + 'mosaics/tiles/data_hump.json') as f:\n",
    "    hump_dict = json.load(f)\n",
    "\n",
    "with open(data_dir + 'mosaics/tiles/data_blob.json') as f:\n",
    "    blob_dict = json.load(f)"
   ]
  },
  {
   "cell_type": "code",
   "execution_count": 5,
   "metadata": {},
   "outputs": [
    {
     "name": "stdout",
     "output_type": "stream",
     "text": [
      "3 3 3\n"
     ]
    }
   ],
   "source": [
    "bubble_key_list = []\n",
    "for key in bubble_dict:\n",
    "\tbubble_key_list.append(key)\n",
    "\n",
    "hump_key_list = []\n",
    "for key in hump_dict:\n",
    "\thump_key_list.append(key)\n",
    "\n",
    "blob_key_list = []\n",
    "for key in blob_dict:\n",
    "\tblob_key_list.append(key)\n",
    "    \n",
    "print(len(bubble_key_list), len(hump_key_list), len(blob_key_list))\n",
    "\n",
    "shuffle(bubble_key_list)\n",
    "keys_len = len(bubble_key_list)\n",
    "test_idx = int(keys_len * 0.2)\n",
    "val_idx = int(keys_len * 0.8 * 0.2) + test_idx\n",
    "bubble_test_keys = bubble_key_list[:test_idx]\n",
    "bubble_val_keys = bubble_key_list[test_idx:val_idx]\n",
    "bubble_train_keys = bubble_key_list[val_idx:]\n",
    "\n",
    "shuffle(hump_key_list)\n",
    "keys_len = len(hump_key_list)\n",
    "test_idx = int(keys_len * 0.2)\n",
    "val_idx = int(keys_len * 0.8 * 0.2) + test_idx\n",
    "hump_test_keys = hump_key_list[:test_idx]\n",
    "hump_val_keys = hump_key_list[test_idx:val_idx]\n",
    "hump_train_keys = hump_key_list[val_idx:]\n",
    "\n",
    "shuffle(blob_key_list)\n",
    "keys_len = len(blob_key_list)\n",
    "test_idx = int(keys_len * 0.2)\n",
    "val_idx = int(keys_len * 0.8 * 0.2) + test_idx\n",
    "blob_test_keys = blob_key_list[:test_idx]\n",
    "blob_val_keys = blob_key_list[test_idx:val_idx]\n",
    "blob_train_keys = blob_key_list[val_idx:]\n",
    "\n",
    "bubble_test_data = {k: bubble_dict[k] for k in bubble_test_keys}\n",
    "bubble_val_data = {k: bubble_dict[k] for k in bubble_val_keys}\n",
    "bubble_train_data = {k: bubble_dict[k] for k in bubble_train_keys}\n",
    "\n",
    "hump_test_data = {k: hump_dict[k] for k in hump_test_keys}\n",
    "hump_val_data = {k: hump_dict[k] for k in hump_val_keys}\n",
    "hump_train_data = {k: hump_dict[k] for k in hump_train_keys}\n",
    "\n",
    "blob_test_data = {k: blob_dict[k] for k in blob_test_keys}\n",
    "blob_val_data = {k: blob_dict[k] for k in blob_val_keys}\n",
    "blob_train_data = {k: blob_dict[k] for k in blob_train_keys}\n",
    "\n",
    "test_data = {}\n",
    "test_data.update(bubble_test_data)\n",
    "test_data.update(hump_test_data)\n",
    "test_data.update(blob_test_data)\n",
    "\n",
    "val_data = {}\n",
    "val_data.update(bubble_val_data)\n",
    "val_data.update(hump_val_data)\n",
    "val_data.update(blob_val_data)\n",
    "\n",
    "train_data = {}\n",
    "train_data.update(bubble_train_data)\n",
    "train_data.update(hump_train_data)\n",
    "train_data.update(blob_train_data)\n",
    "\n",
    "with open(data_dir + 'via_region_data_test.json', 'w') as fp:\n",
    "    json.dump(test_data, fp)\n",
    "\n",
    "with open(data_dir + 'via_region_data_val.json', 'w') as fp:\n",
    "    json.dump(val_data, fp)\n",
    "\n",
    "with open(data_dir + 'via_region_data_train.json', 'w') as fp:\n",
    "    json.dump(train_data, fp)\n",
    "\n"
   ]
  },
  {
   "cell_type": "code",
   "execution_count": 6,
   "metadata": {},
   "outputs": [
    {
     "data": {
      "text/plain": [
       "(0, 0, 3)"
      ]
     },
     "execution_count": 6,
     "metadata": {},
     "output_type": "execute_result"
    }
   ],
   "source": [
    "len(test_data), len(val_data), len(train_data)"
   ]
  },
  {
   "cell_type": "code",
   "execution_count": null,
   "metadata": {},
   "outputs": [],
   "source": []
  }
 ],
 "metadata": {
  "kernelspec": {
   "display_name": "Python 3",
   "language": "python",
   "name": "python3"
  },
  "language_info": {
   "codemirror_mode": {
    "name": "ipython",
    "version": 3
   },
   "file_extension": ".py",
   "mimetype": "text/x-python",
   "name": "python",
   "nbconvert_exporter": "python",
   "pygments_lexer": "ipython3",
   "version": "3.8.2"
  }
 },
 "nbformat": 4,
 "nbformat_minor": 2
}
