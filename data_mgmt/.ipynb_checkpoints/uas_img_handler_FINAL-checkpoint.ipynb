{
 "cells": [
  {
   "cell_type": "code",
   "execution_count": 1,
   "metadata": {},
   "outputs": [],
   "source": [
    "from PIL import Image\n",
    "import os\n",
    "import argparse\n",
    "import numpy as np\n",
    "import json\n",
    "import csv\n",
    "import rasterio\n",
    "import matplotlib\n",
    "import folium\n",
    "from pyproj import Proj, transform\n",
    "\n",
    "\n",
    "%matplotlib inline\n",
    "\n",
    "\n",
    "Image.MAX_IMAGE_PIXELS = 100000000000"
   ]
  },
  {
   "cell_type": "code",
   "execution_count": 107,
   "metadata": {},
   "outputs": [],
   "source": [
    "# ingest the image\n",
    "infile = \"../data/mosaics/SteepleJason_NTiptoGully_Nov2019_Reprocess_transparent_mosaic_group1.tif\"\n",
    "\n",
    "img_dir = '..' + infile.split(\".\")[2] + '_500x500_overlap60'\n",
    "prj_name = img_dir.split(\"/\")[-1]"
   ]
  },
  {
   "cell_type": "code",
   "execution_count": 108,
   "metadata": {},
   "outputs": [
    {
     "data": {
      "text/plain": [
       "'../data/mosaics/SteepleJason_NTiptoGully_Nov2019_Reprocess_transparent_mosaic_group1.tif'"
      ]
     },
     "execution_count": 108,
     "metadata": {},
     "output_type": "execute_result"
    }
   ],
   "source": [
    "infile"
   ]
  },
  {
   "cell_type": "code",
   "execution_count": 109,
   "metadata": {
    "scrolled": true
   },
   "outputs": [
    {
     "data": {
      "text/plain": [
       "'../data/mosaics/SteepleJason_NTiptoGully_Nov2019_Reprocess_transparent_mosaic_group1_250x250_overlap60'"
      ]
     },
     "execution_count": 109,
     "metadata": {},
     "output_type": "execute_result"
    }
   ],
   "source": [
    "img_dir"
   ]
  },
  {
   "cell_type": "code",
   "execution_count": 110,
   "metadata": {},
   "outputs": [
    {
     "data": {
      "text/plain": [
       "'SteepleJason_NTiptoGully_Nov2019_Reprocess_transparent_mosaic_group1_250x250_overlap60'"
      ]
     },
     "execution_count": 110,
     "metadata": {},
     "output_type": "execute_result"
    }
   ],
   "source": [
    "prj_name"
   ]
  },
  {
   "cell_type": "code",
   "execution_count": 111,
   "metadata": {},
   "outputs": [],
   "source": [
    "dataset = rasterio.open(infile)"
   ]
  },
  {
   "cell_type": "code",
   "execution_count": 112,
   "metadata": {},
   "outputs": [
    {
     "name": "stdout",
     "output_type": "stream",
     "text": [
      "Image filename: ../data/mosaics/SteepleJason_NTiptoGully_Nov2019_Reprocess_transparent_mosaic_group1.tif\n",
      "\n",
      "Number of bands in image: 4\n",
      "\n",
      "Image size is: 83420 rows x 15247 columns\n",
      "\n",
      "Raster description: (None, None, None, None)\n",
      "\n",
      "Raster driver: GTiff\n",
      "\n",
      "Image projection:\n",
      "EPSG:32720 \n",
      "\n",
      "Image geo-transform:\n",
      "| 0.01, 0.00, 622506.63|\n",
      "| 0.00,-0.01, 4347307.39|\n",
      "| 0.00, 0.00, 1.00|\n",
      "\n",
      "All raster metadata:\n",
      "{'driver': 'GTiff', 'dtype': 'uint8', 'nodata': None, 'width': 15247, 'height': 83420, 'count': 4, 'crs': CRS.from_epsg(32720), 'transform': Affine(0.012, 0.0, 622506.63289,\n",
      "       0.0, -0.012, 4347307.39278)}\n",
      "\n",
      "\n"
     ]
    }
   ],
   "source": [
    "# what is the name of this image\n",
    "img_name = dataset.name\n",
    "print('Image filename: {n}\\n'.format(n=img_name))\n",
    "\n",
    "# How many bands does this image have?\n",
    "num_bands = dataset.count\n",
    "print('Number of bands in image: {n}\\n'.format(n=num_bands))\n",
    "\n",
    "# How many rows and columns?\n",
    "rows, cols = dataset.shape\n",
    "print('Image size is: {r} rows x {c} columns\\n'.format(r=rows, c=cols))\n",
    "\n",
    "# Does the raster have a description or metadata?\n",
    "desc = dataset.descriptions\n",
    "metadata = dataset.meta\n",
    "\n",
    "print('Raster description: {desc}\\n'.format(desc=desc))\n",
    "\n",
    "# What driver was used to open the raster?\n",
    "driver = dataset.driver\n",
    "print('Raster driver: {d}\\n'.format(d=driver))\n",
    "\n",
    "# What is the raster's projection?\n",
    "proj = dataset.crs\n",
    "print('Image projection:')\n",
    "print(proj, '\\n')\n",
    "\n",
    "# What is the raster's \"geo-transform\"\n",
    "gt = dataset.transform\n",
    "\n",
    "print('Image geo-transform:\\n{gt}\\n'.format(gt=gt))\n",
    "\n",
    "print('All raster metadata:')\n",
    "print(metadata)\n",
    "print('\\n')"
   ]
  },
  {
   "cell_type": "code",
   "execution_count": 113,
   "metadata": {
    "scrolled": true
   },
   "outputs": [
    {
     "data": {
      "image/png": "[encoded data removed]",
      "text/plain": [
       "<Figure size 1080x1080 with 1 Axes>"
      ]
     },
     "metadata": {
      "needs_background": "light"
     },
     "output_type": "display_data"
    }
   ],
   "source": [
    "from rasterio.plot import show\n",
    "from rasterio.windows import Window\n",
    "import matplotlib.pyplot as plt\n",
    "\n",
    "fig, ax = plt.subplots(figsize=(15,15))\n",
    "\n",
    "show(dataset.read((1,2,3), window=Window(5000, 5000, 2000, 2000)), transform=dataset.transform, ax=ax)\n",
    "plt.show()"
   ]
  },
  {
   "cell_type": "code",
   "execution_count": 114,
   "metadata": {},
   "outputs": [],
   "source": [
    "from rasterio.windows import Window\n",
    "with rasterio.open(infile) as src:\n",
    "    w = src.read(1, window=Window(0, 0, 512, 256))"
   ]
  },
  {
   "cell_type": "code",
   "execution_count": 90,
   "metadata": {},
   "outputs": [
    {
     "ename": "KeyboardInterrupt",
     "evalue": "",
     "output_type": "error",
     "traceback": [
      "\u001b[0;31m---------------------------------------------------------------------------\u001b[0m",
      "\u001b[0;31mKeyboardInterrupt\u001b[0m                         Traceback (most recent call last)",
      "\u001b[0;32m<ipython-input-90-1051e89b688d>\u001b[0m in \u001b[0;36m<module>\u001b[0;34m\u001b[0m\n\u001b[1;32m      5\u001b[0m \u001b[0mfig\u001b[0m\u001b[0;34m,\u001b[0m \u001b[0;34m(\u001b[0m\u001b[0maxrgb\u001b[0m\u001b[0;34m,\u001b[0m \u001b[0maxhist\u001b[0m\u001b[0;34m)\u001b[0m \u001b[0;34m=\u001b[0m \u001b[0mplt\u001b[0m\u001b[0;34m.\u001b[0m\u001b[0msubplots\u001b[0m\u001b[0;34m(\u001b[0m\u001b[0;36m1\u001b[0m\u001b[0;34m,\u001b[0m \u001b[0;36m2\u001b[0m\u001b[0;34m,\u001b[0m \u001b[0mfigsize\u001b[0m\u001b[0;34m=\u001b[0m\u001b[0;34m(\u001b[0m\u001b[0;36m14\u001b[0m\u001b[0;34m,\u001b[0m\u001b[0;36m7\u001b[0m\u001b[0;34m)\u001b[0m\u001b[0;34m)\u001b[0m\u001b[0;34m\u001b[0m\u001b[0;34m\u001b[0m\u001b[0m\n\u001b[1;32m      6\u001b[0m \u001b[0;31m#show(dataset, ax=axrgb)\u001b[0m\u001b[0;34m\u001b[0m\u001b[0;34m\u001b[0m\u001b[0;34m\u001b[0m\u001b[0m\n\u001b[0;32m----> 7\u001b[0;31m \u001b[0mshow\u001b[0m\u001b[0;34m(\u001b[0m\u001b[0mdataset\u001b[0m\u001b[0;34m.\u001b[0m\u001b[0mread\u001b[0m\u001b[0;34m(\u001b[0m\u001b[0;34m)\u001b[0m\u001b[0;34m,\u001b[0m \u001b[0mtransform\u001b[0m\u001b[0;34m=\u001b[0m\u001b[0mdataset\u001b[0m\u001b[0;34m.\u001b[0m\u001b[0mtransform\u001b[0m\u001b[0;34m,\u001b[0m \u001b[0max\u001b[0m\u001b[0;34m=\u001b[0m\u001b[0maxrgb\u001b[0m\u001b[0;34m)\u001b[0m\u001b[0;34m\u001b[0m\u001b[0;34m\u001b[0m\u001b[0m\n\u001b[0m\u001b[1;32m      8\u001b[0m \u001b[0mshow_hist\u001b[0m\u001b[0;34m(\u001b[0m\u001b[0mdataset\u001b[0m\u001b[0;34m,\u001b[0m \u001b[0mbins\u001b[0m\u001b[0;34m=\u001b[0m\u001b[0;36m50\u001b[0m\u001b[0;34m,\u001b[0m \u001b[0mhisttype\u001b[0m\u001b[0;34m=\u001b[0m\u001b[0;34m'stepfilled'\u001b[0m\u001b[0;34m,\u001b[0m \u001b[0mlw\u001b[0m\u001b[0;34m=\u001b[0m\u001b[0;36m0.0\u001b[0m\u001b[0;34m,\u001b[0m \u001b[0mstacked\u001b[0m\u001b[0;34m=\u001b[0m\u001b[0;32mFalse\u001b[0m\u001b[0;34m,\u001b[0m \u001b[0malpha\u001b[0m\u001b[0;34m=\u001b[0m\u001b[0;36m0.3\u001b[0m\u001b[0;34m,\u001b[0m \u001b[0max\u001b[0m\u001b[0;34m=\u001b[0m\u001b[0maxhist\u001b[0m\u001b[0;34m)\u001b[0m\u001b[0;34m\u001b[0m\u001b[0;34m\u001b[0m\u001b[0m\n\u001b[1;32m      9\u001b[0m \u001b[0mplt\u001b[0m\u001b[0;34m.\u001b[0m\u001b[0mshow\u001b[0m\u001b[0;34m(\u001b[0m\u001b[0;34m)\u001b[0m\u001b[0;34m\u001b[0m\u001b[0;34m\u001b[0m\u001b[0m\n",
      "\u001b[0;31mKeyboardInterrupt\u001b[0m: "
     ]
    },
    {
     "data": {
      "image/png": "[encoded data removed]",
      "text/plain": [
       "<Figure size 1008x504 with 2 Axes>"
      ]
     },
     "metadata": {
      "needs_background": "light"
     },
     "output_type": "display_data"
    }
   ],
   "source": [
    "# plot the image with a histogram of band intensities\n",
    "\n",
    "from rasterio.plot import show_hist\n",
    "\n",
    "fig, (axrgb, axhist) = plt.subplots(1, 2, figsize=(14,7))\n",
    "#show(dataset, ax=axrgb)\n",
    "show(dataset.read(), transform=dataset.transform, ax=axrgb)\n",
    "show_hist(dataset, bins=50, histtype='stepfilled', lw=0.0, stacked=False, alpha=0.3, ax=axhist)\n",
    "plt.show()"
   ]
  },
  {
   "cell_type": "code",
   "execution_count": 115,
   "metadata": {
    "scrolled": true
   },
   "outputs": [
    {
     "data": {
      "text/plain": [
       "CRS.from_epsg(32720)"
      ]
     },
     "execution_count": 115,
     "metadata": {},
     "output_type": "execute_result"
    }
   ],
   "source": [
    "dataset.crs"
   ]
  },
  {
   "cell_type": "code",
   "execution_count": 116,
   "metadata": {},
   "outputs": [],
   "source": [
    "# Project all longitudes, latitudes\n",
    "utm_tl = dataset.transform * (0, 0)\n",
    "utm_br = dataset.transform * (dataset.width, dataset.height)\n",
    "utm_center = dataset.transform * (dataset.width // 2, dataset.height // 2)\n",
    "\n",
    "positions = dataset.transform * (0, 0), dataset.transform * (dataset.width, 0), dataset.transform * (dataset.width, dataset.height), dataset.transform * (0, dataset.height),\n",
    "\n",
    "#longs, lats = transform(p1, p2, np.array(positions)[:,0],np.array(positions)[:,1])\n",
    "\n",
    "p1 = Proj(dataset.crs)\n",
    "p2 = Proj(proj='latlong',datum='WGS84')\n",
    "tl_long, tl_lat = transform(p1, p2, utm_tl[0], utm_tl[1])\n",
    "br_long, br_lat = transform(p1, p2, utm_br[0], utm_br[1])\n",
    "center_long, center_lat = transform(p1, p2, utm_center[0], utm_center[1])\n",
    "longs, lats = transform(p1, p2, np.array(positions)[:,0],np.array(positions)[:,1])"
   ]
  },
  {
   "cell_type": "code",
   "execution_count": 117,
   "metadata": {},
   "outputs": [],
   "source": [
    "points = list(zip(lats, longs))"
   ]
  },
  {
   "cell_type": "code",
   "execution_count": 118,
   "metadata": {},
   "outputs": [
    {
     "data": {
      "text/plain": [
       "(-61.25360095459688, -51.012736096835994)"
      ]
     },
     "execution_count": 118,
     "metadata": {},
     "output_type": "execute_result"
    }
   ],
   "source": [
    "tl_long,tl_lat"
   ]
  },
  {
   "cell_type": "code",
   "execution_count": 119,
   "metadata": {},
   "outputs": [
    {
     "data": {
      "text/html": [
       "<div style=\"width:100%;\"><div style=\"position:relative;width:100%;height:0;padding-bottom:60%;\"><iframe src=\"about:blank\" style=\"position:absolute;width:100%;height:100%;left:0;top:0;border:none !important;\" data-html=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 onload=\"this.contentDocument.open();this.contentDocument.write(atob(this.getAttribute('data-html')));this.contentDocument.close();\" allowfullscreen webkitallowfullscreen mozallowfullscreen></iframe></div></div>"
      ],
      "text/plain": [
       "<folium.folium.Map at 0x7ff11dff9160>"
      ]
     },
     "execution_count": 119,
     "metadata": {},
     "output_type": "execute_result"
    }
   ],
   "source": [
    "m = folium.Map(location=[center_lat, center_long])\n",
    "\n",
    "tooltip=\"Raster\"\n",
    "#folium.Marker([tl_lat, tl_long], popup='<i>Raster Top Left</i>', tooltip=tooltip).add_to(m)\n",
    "#folium.Marker([br_lat, br_long], popup='<i>Raster Bottom right</i>', tooltip=tooltip).add_to(m)\n",
    "#folium.Marker([center_lat, center_long], popup='<i>Raster Center</i>', tooltip=tooltip).add_to(m)\n",
    "\n",
    "folium.Polygon(points, \n",
    "               tooltip=tooltip, \n",
    "               popup='Laurelhurst Park',\n",
    "               color='#3186cc',\n",
    "               fill=True,\n",
    "               fill_color='#3186cc').add_to(m)\n",
    "\n",
    "#folium.PolyLine(points, color=\"red\", weight=100, opacity=1).add_to(m)\n",
    "\n",
    "m"
   ]
  },
  {
   "cell_type": "code",
   "execution_count": 120,
   "metadata": {},
   "outputs": [
    {
     "name": "stdout",
     "output_type": "stream",
     "text": [
      "(83420, 15247)\n",
      "35232.81828254848\n"
     ]
    }
   ],
   "source": [
    "from rasterio.plot import reshape_as_image\n",
    "\n",
    "# open TIFF file (reading) mode and get dimensions\n",
    "dataset = rasterio.open(infile)\n",
    "img_height, img_width = dataset.shape\n",
    "\n",
    "# define tile size and number of pixels to move in each direction\n",
    "tile_height = tile_width = 500\n",
    "overlap = 60\n",
    "stride = tile_height - overlap\n",
    "start_num = 0\n",
    "count = 0\n",
    "img_dict = {}\n",
    "# create the dir if it doesn't already exist\n",
    "if not os.path.exists(img_dir):\n",
    "    os.makedirs(img_dir)\n",
    "\n",
    "num_tiles = (img_width * img_height) / ((tile_height - overlap) * (tile_width - overlap))\n",
    "print(dataset.shape)\n",
    "print(num_tiles)\n",
    "\n",
    "for r in range(0, img_height-tile_height+1, stride):\n",
    "    for c in range(0, img_width-tile_width+1, stride):\n",
    "        # read tile\n",
    "        tile = dataset.read((1,2,3),window=Window(c, r, tile_width, tile_height))\n",
    "        \n",
    "        reshaped_tile = reshape_as_image(tile)\n",
    "        \n",
    "        top_pixel = [c,r]\n",
    "        tile_name = prj_name + \"---\" + str(count) + \".png\"\n",
    "        img_dict[tile_name] = top_pixel\n",
    "        \n",
    "        im = Image.fromarray(reshaped_tile)\n",
    "        \n",
    "        \n",
    "        path = os.path.join(img_dir, tile_name)\n",
    "        im.save(path)\n",
    "        \n",
    "        count += 1"
   ]
  },
  {
   "cell_type": "code",
   "execution_count": 121,
   "metadata": {},
   "outputs": [],
   "source": [
    "full_dict = {\"image_name\" : infile,\n",
    "            \"image_locations\" : img_dict,\n",
    "             \"crs\" : str(dataset.crs)\n",
    "            }\n",
    "\n",
    "with open(img_dir + '/steeplejason_ntipgully_data_500x500_overlap60.json', 'w') as fp:\n",
    "    json.dump(full_dict, fp)"
   ]
  },
  {
   "cell_type": "code",
   "execution_count": null,
   "metadata": {},
   "outputs": [],
   "source": []
  }
 ],
 "metadata": {
  "kernelspec": {
   "display_name": "Python 3",
   "language": "python",
   "name": "python3"
  },
  "language_info": {
   "codemirror_mode": {
    "name": "ipython",
    "version": 3
   },
   "file_extension": ".py",
   "mimetype": "text/x-python",
   "name": "python",
   "nbconvert_exporter": "python",
   "pygments_lexer": "ipython3",
   "version": "3.8.2"
  }
 },
 "nbformat": 4,
 "nbformat_minor": 4
}
