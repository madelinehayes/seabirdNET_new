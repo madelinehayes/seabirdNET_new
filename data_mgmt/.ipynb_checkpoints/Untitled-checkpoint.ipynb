{
 "cells": [
  {
   "cell_type": "code",
   "execution_count": 2,
   "metadata": {},
   "outputs": [],
   "source": [
    "from PIL import Image\n",
    "import os\n",
    "import argparse\n",
    "import random\n",
    "import numpy as np\n",
    "import json\n",
    "import csv\n",
    "import rasterio\n",
    "import matplotlib\n",
    "import folium\n",
    "from pyproj import Proj, transform\n",
    "import png\n",
    "\n",
    "\n",
    "\n",
    "%matplotlib inline\n",
    "\n",
    "\n",
    "Image.MAX_IMAGE_PIXELS = 100000000000"
   ]
  },
  {
   "cell_type": "code",
   "execution_count": 3,
   "metadata": {},
   "outputs": [],
   "source": [
    "# ingest the image\n",
    "infile = \"../data/mosaics/GrandJason_SWLeftThird_Nov2019_transparent_mosaic_group1.tif\"\n",
    "\n",
    "img_dir = '..' + infile.split(\".\")[2]\n",
    "prj_name = img_dir.split(\"/\")[-1]"
   ]
  },
  {
   "cell_type": "code",
   "execution_count": 8,
   "metadata": {},
   "outputs": [
    {
     "data": {
      "text/plain": [
       "bytearray(b'II+\\x00\\x08')"
      ]
     },
     "execution_count": 8,
     "metadata": {},
     "output_type": "execute_result"
    }
   ],
   "source": [
    "with open(infile, 'rb') as img:\n",
    "    f = img.read()\n",
    "    b = bytearray(f)\n",
    "b[0:5]"
   ]
  },
  {
   "cell_type": "code",
   "execution_count": 5,
   "metadata": {},
   "outputs": [],
   "source": [
    "import gdal\n",
    "outfile = \"../data/mosaics/GrandJason_SWLeftThird_Nov2019_transparent_mosaic_group1_tiled.tif\"\n",
    "ds = gdal.Translate(outfile, infile, creationOptions=[\"TILED=YES\"])\n",
    "ds = None"
   ]
  },
  {
   "cell_type": "code",
   "execution_count": 3,
   "metadata": {},
   "outputs": [
    {
     "name": "stdout",
     "output_type": "stream",
     "text": [
      "Collecting tifffile\n",
      "  Downloading tifffile-2020.2.16-py3-none-any.whl (130 kB)\n",
      "\u001b[K     |████████████████████████████████| 130 kB 1.2 MB/s eta 0:00:01\n",
      "\u001b[?25hRequirement already satisfied: numpy>=1.15.1 in /opt/conda/envs/geo_env/lib/python3.8/site-packages (from tifffile) (1.18.1)\n",
      "Collecting imagecodecs>=2020.1.31\n",
      "  Downloading imagecodecs-2020.2.18-cp38-cp38-manylinux2014_x86_64.whl (19.2 MB)\n",
      "\u001b[K     |████████████████████████████████| 19.2 MB 12.4 MB/s eta 0:00:01\n",
      "\u001b[?25hInstalling collected packages: imagecodecs, tifffile\n",
      "Successfully installed imagecodecs-2020.2.18 tifffile-2020.2.16\n"
     ]
    }
   ],
   "source": [
    "! pip install tifffile"
   ]
  },
  {
   "cell_type": "code",
   "execution_count": 4,
   "metadata": {},
   "outputs": [],
   "source": [
    "import tifffile\n",
    "def is_bigtiff(infile):\n",
    "    with tifffile.TiffFile(f) as img:\n",
    "        return img.is_bigtiff"
   ]
  },
  {
   "cell_type": "code",
   "execution_count": 2,
   "metadata": {
    "scrolled": false
   },
   "outputs": [
    {
     "name": "stdout",
     "output_type": "stream",
     "text": [
      "Collecting exifread\n",
      "  Downloading ExifRead-2.1.2.tar.gz (33 kB)\n",
      "Building wheels for collected packages: exifread\n",
      "  Building wheel for exifread (setup.py) ... \u001b[?25ldone\n",
      "\u001b[?25h  Created wheel for exifread: filename=ExifRead-2.1.2-py3-none-any.whl size=34200 sha256=9afd2dffa6f23c9256d54e2b440b578a489f2a23af600700bde4f2626da9ffb7\n",
      "  Stored in directory: /root/.cache/pip/wheels/34/c4/f1/0c1e430b02eb990a0e0773b3791ba601fece63cebb836ba780\n",
      "Successfully built exifread\n",
      "Installing collected packages: exifread\n",
      "Successfully installed exifread-2.1.2\n"
     ]
    }
   ],
   "source": [
    "! pip install exifread"
   ]
  },
  {
   "cell_type": "code",
   "execution_count": 5,
   "metadata": {},
   "outputs": [],
   "source": [
    "import exifread\n",
    "# Open image file for reading (binary mode)\n",
    "f = open('../data/mosaics/import tifffile\n",
    "with tifffile.TiffFile('file.tif') as tif:\n",
    "    tif_tags = {}\n",
    "    for tag in tif.pages[0].tags.values():\n",
    "        name, value = tag.name, tag.value\n",
    "        tif_tags[name] = value\n",
    "    image = tif.pages[0].asarray()', 'rb')\n",
    "\n",
    "# Return Exif tags\n",
    "tags = exifread.process_file(f)\n",
    "\n",
    "# Print the tag/ value pairs\n",
    "for tag in tags.keys():\n",
    "    if tag not in ('JPEGThumbnail', 'TIFFThumbnail', 'Filename', 'EXIF MakerNote'):\n",
    "        print (\"Key: %s, value %s\" % (tag, tags[tag]))"
   ]
  },
  {
   "cell_type": "code",
   "execution_count": 7,
   "metadata": {},
   "outputs": [
    {
     "ename": "ModuleNotFoundError",
     "evalue": "No module named 'tifffile'",
     "output_type": "error",
     "traceback": [
      "\u001b[0;31m---------------------------------------------------------------------------\u001b[0m",
      "\u001b[0;31mModuleNotFoundError\u001b[0m                       Traceback (most recent call last)",
      "\u001b[0;32m<ipython-input-7-c5ce8fc8067b>\u001b[0m in \u001b[0;36m<module>\u001b[0;34m\u001b[0m\n\u001b[0;32m----> 1\u001b[0;31m \u001b[0;32mimport\u001b[0m \u001b[0mtifffile\u001b[0m\u001b[0;34m\u001b[0m\u001b[0;34m\u001b[0m\u001b[0m\n\u001b[0m\u001b[1;32m      2\u001b[0m \u001b[0;32mwith\u001b[0m \u001b[0mtifffile\u001b[0m\u001b[0;34m.\u001b[0m\u001b[0mTiffFile\u001b[0m\u001b[0;34m(\u001b[0m\u001b[0minfile\u001b[0m\u001b[0;34m)\u001b[0m \u001b[0;32mas\u001b[0m \u001b[0mtif\u001b[0m\u001b[0;34m:\u001b[0m\u001b[0;34m\u001b[0m\u001b[0;34m\u001b[0m\u001b[0m\n\u001b[1;32m      3\u001b[0m     \u001b[0mtif_tags\u001b[0m \u001b[0;34m=\u001b[0m \u001b[0;34m{\u001b[0m\u001b[0;34m}\u001b[0m\u001b[0;34m\u001b[0m\u001b[0;34m\u001b[0m\u001b[0m\n\u001b[1;32m      4\u001b[0m     \u001b[0;32mfor\u001b[0m \u001b[0mtag\u001b[0m \u001b[0;32min\u001b[0m \u001b[0mtif\u001b[0m\u001b[0;34m.\u001b[0m\u001b[0mpages\u001b[0m\u001b[0;34m[\u001b[0m\u001b[0;36m0\u001b[0m\u001b[0;34m]\u001b[0m\u001b[0;34m.\u001b[0m\u001b[0mtags\u001b[0m\u001b[0;34m.\u001b[0m\u001b[0mvalues\u001b[0m\u001b[0;34m(\u001b[0m\u001b[0;34m)\u001b[0m\u001b[0;34m:\u001b[0m\u001b[0;34m\u001b[0m\u001b[0;34m\u001b[0m\u001b[0m\n\u001b[1;32m      5\u001b[0m         \u001b[0mname\u001b[0m\u001b[0;34m,\u001b[0m \u001b[0mvalue\u001b[0m \u001b[0;34m=\u001b[0m \u001b[0mtag\u001b[0m\u001b[0;34m.\u001b[0m\u001b[0mname\u001b[0m\u001b[0;34m,\u001b[0m \u001b[0mtag\u001b[0m\u001b[0;34m.\u001b[0m\u001b[0mvalue\u001b[0m\u001b[0;34m\u001b[0m\u001b[0;34m\u001b[0m\u001b[0m\n",
      "\u001b[0;31mModuleNotFoundError\u001b[0m: No module named 'tifffile'"
     ]
    }
   ],
   "source": [
    "import tifffile\n",
    "with tifffile.TiffFile(infile) as tif:\n",
    "    tif_tags = {}\n",
    "    for tag in tif.pages[0].tags.values():\n",
    "        name, value = tag.name, tag.value\n",
    "        tif_tags[name] = value\n",
    "    image = tif.pages[0].asarray()"
   ]
  },
  {
   "cell_type": "code",
   "execution_count": 9,
   "metadata": {},
   "outputs": [
    {
     "ename": "TypeError",
     "evalue": "open() missing required argument 'flags' (pos 2)",
     "output_type": "error",
     "traceback": [
      "\u001b[0;31m---------------------------------------------------------------------------\u001b[0m",
      "\u001b[0;31mTypeError\u001b[0m                                 Traceback (most recent call last)",
      "\u001b[0;32m<ipython-input-9-b4db065c80c0>\u001b[0m in \u001b[0;36m<module>\u001b[0;34m\u001b[0m\n\u001b[1;32m      1\u001b[0m \u001b[0;32mimport\u001b[0m \u001b[0mos\u001b[0m\u001b[0;34m\u001b[0m\u001b[0;34m\u001b[0m\u001b[0m\n\u001b[0;32m----> 2\u001b[0;31m \u001b[0mmetadata\u001b[0m \u001b[0;34m=\u001b[0m \u001b[0mos\u001b[0m\u001b[0;34m.\u001b[0m\u001b[0mopen\u001b[0m\u001b[0;34m(\u001b[0m\u001b[0;34m'gdalinfo ../data/mosaics/GrandJason_SWLeftThird_Nov2019_transparent_mosaic_group1.tif'\u001b[0m\u001b[0;34m)\u001b[0m\u001b[0;34m.\u001b[0m\u001b[0mread\u001b[0m\u001b[0;34m(\u001b[0m\u001b[0;34m)\u001b[0m\u001b[0;34m\u001b[0m\u001b[0;34m\u001b[0m\u001b[0m\n\u001b[0m\u001b[1;32m      3\u001b[0m \u001b[0mprint\u001b[0m \u001b[0;34m(\u001b[0m\u001b[0mmetadata\u001b[0m\u001b[0;34m)\u001b[0m\u001b[0;34m\u001b[0m\u001b[0;34m\u001b[0m\u001b[0m\n",
      "\u001b[0;31mTypeError\u001b[0m: open() missing required argument 'flags' (pos 2)"
     ]
    }
   ],
   "source": [
    "import os\n",
    "metadata = os.open('gdalinfo ../data/mosaics/GrandJason_SWLeftThird_Nov2019_transparent_mosaic_group1.tif').read()\n",
    "print (metadata)"
   ]
  },
  {
   "cell_type": "code",
   "execution_count": 10,
   "metadata": {},
   "outputs": [],
   "source": []
  },
  {
   "cell_type": "code",
   "execution_count": 20,
   "metadata": {},
   "outputs": [
    {
     "data": {
      "text/plain": [
       "'../data/mosaics/GrandJason_SWLeftThird_Nov2019_transparent_mosaic_group1.tif'"
      ]
     },
     "execution_count": 20,
     "metadata": {},
     "output_type": "execute_result"
    }
   ],
   "source": [
    "from osgeo import gdal\n",
    "raster = gdal.Open('../data/mosaics/GrandJason_SWLeftThird_Nov2019_transparent_mosaic_group1.tif')\n",
    "raster.GetMetadata()\n",
    "raster.GetDescription()\n"
   ]
  },
  {
   "cell_type": "code",
   "execution_count": 1,
   "metadata": {},
   "outputs": [
    {
     "name": "stdout",
     "output_type": "stream",
     "text": [
      "Driver: GTiff/GeoTIFF\n",
      "Files: ../data/mosaics/SteepleJason_Hump_Nov2019_transparent_mosaic_group1.tif\n",
      "Size is 22979, 21577\n",
      "Coordinate System is:\n",
      "PROJCRS[\"WGS 84 / UTM zone 20S\",\n",
      "    BASEGEOGCRS[\"WGS 84\",\n",
      "        DATUM[\"World Geodetic System 1984\",\n",
      "            ELLIPSOID[\"WGS 84\",6378137,298.257223563,\n",
      "                LENGTHUNIT[\"metre\",1]]],\n",
      "        PRIMEM[\"Greenwich\",0,\n",
      "            ANGLEUNIT[\"degree\",0.0174532925199433]],\n",
      "        ID[\"EPSG\",4326]],\n",
      "    CONVERSION[\"Transverse Mercator\",\n",
      "        METHOD[\"Transverse Mercator\",\n",
      "            ID[\"EPSG\",9807]],\n",
      "        PARAMETER[\"Latitude of natural origin\",0,\n",
      "            ANGLEUNIT[\"degree\",0.0174532925199433],\n",
      "            ID[\"EPSG\",8801]],\n",
      "        PARAMETER[\"Longitude of natural origin\",-63,\n",
      "            ANGLEUNIT[\"degree\",0.0174532925199433],\n",
      "            ID[\"EPSG\",8802]],\n",
      "        PARAMETER[\"Scale factor at natural origin\",0.9996,\n",
      "            SCALEUNIT[\"unity\",1],\n",
      "            ID[\"EPSG\",8805]],\n",
      "        PARAMETER[\"False easting\",500000,\n",
      "            LENGTHUNIT[\"metre\",1],\n",
      "            ID[\"EPSG\",8806]],\n",
      "        PARAMETER[\"False northing\",10000000,\n",
      "            LENGTHUNIT[\"metre\",1],\n",
      "            ID[\"EPSG\",8807]]],\n",
      "    CS[Cartesian,2],\n",
      "        AXIS[\"easting\",east,\n",
      "            ORDER[1],\n",
      "            LENGTHUNIT[\"metre\",1]],\n",
      "        AXIS[\"northing\",north,\n",
      "            ORDER[2],\n",
      "            LENGTHUNIT[\"metre\",1]],\n",
      "    ID[\"EPSG\",32720]]\n",
      "Data axis to CRS axis mapping: 1,2\n",
      "Origin = (624070.290850000106730,4344839.008850000798702)\n",
      "Pixel Size = (0.005220000000000,-0.005220000000000)\n",
      "Metadata:\n",
      "  AREA_OR_POINT=Area\n",
      "  TIFFTAG_SOFTWARE=pix4dmapper\n",
      "Image Structure Metadata:\n",
      "  COMPRESSION=LZW\n",
      "  INTERLEAVE=PIXEL\n",
      "Corner Coordinates:\n",
      "Upper Left  (  624070.291, 4344839.009) ( 61d13'49.72\"W, 51d 2' 4.51\"S)\n",
      "Lower Left  (  624070.291, 4344726.377) ( 61d13'49.58\"W, 51d 2' 8.16\"S)\n",
      "Upper Right (  624190.241, 4344839.009) ( 61d13'43.56\"W, 51d 2' 4.42\"S)\n",
      "Lower Right (  624190.241, 4344726.377) ( 61d13'43.42\"W, 51d 2' 8.06\"S)\n",
      "Center      (  624130.266, 4344782.693) ( 61d13'46.57\"W, 51d 2' 6.29\"S)\n",
      "Band 1 Block=22979x1 Type=Byte, ColorInterp=Red\n",
      "  NoData Value=-10000\n",
      "  Mask Flags: PER_DATASET ALPHA \n",
      "Band 2 Block=22979x1 Type=Byte, ColorInterp=Green\n",
      "  NoData Value=-10000\n",
      "  Mask Flags: PER_DATASET ALPHA \n",
      "Band 3 Block=22979x1 Type=Byte, ColorInterp=Blue\n",
      "  NoData Value=-10000\n",
      "  Mask Flags: PER_DATASET ALPHA \n",
      "Band 4 Block=22979x1 Type=Byte, ColorInterp=Alpha\n",
      "  NoData Value=-10000\n",
      "\n"
     ]
    }
   ],
   "source": [
    "import os\n",
    "metadata = os.popen('gdalinfo ../data/mosaics/SteepleJason_Hump_Nov2019_transparent_mosaic_group1.tif').read()\n",
    "print (metadata)"
   ]
  },
  {
   "cell_type": "code",
   "execution_count": 22,
   "metadata": {},
   "outputs": [
    {
     "ename": "ModuleNotFoundError",
     "evalue": "No module named 'tifffile'",
     "output_type": "error",
     "traceback": [
      "\u001b[0;31m---------------------------------------------------------------------------\u001b[0m",
      "\u001b[0;31mModuleNotFoundError\u001b[0m                       Traceback (most recent call last)",
      "\u001b[0;32m<ipython-input-22-e64838f3b46c>\u001b[0m in \u001b[0;36m<module>\u001b[0;34m\u001b[0m\n\u001b[0;32m----> 1\u001b[0;31m \u001b[0;32mimport\u001b[0m \u001b[0mtifffile\u001b[0m\u001b[0;34m\u001b[0m\u001b[0;34m\u001b[0m\u001b[0m\n\u001b[0m",
      "\u001b[0;31mModuleNotFoundError\u001b[0m: No module named 'tifffile'"
     ]
    }
   ],
   "source": [
    "import tifffile"
   ]
  }
 ],
 "metadata": {
  "kernelspec": {
   "display_name": "Python 3",
   "language": "python",
   "name": "python3"
  },
  "language_info": {
   "codemirror_mode": {
    "name": "ipython",
    "version": 3
   },
   "file_extension": ".py",
   "mimetype": "text/x-python",
   "name": "python",
   "nbconvert_exporter": "python",
   "pygments_lexer": "ipython3",
   "version": "3.8.2"
  }
 },
 "nbformat": 4,
 "nbformat_minor": 4
}
